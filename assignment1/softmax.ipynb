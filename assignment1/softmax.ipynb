{
 "cells": [
  {
   "cell_type": "markdown",
   "metadata": {},
   "source": [
    "# Softmax exercise\n",
    "\n",
    "*Complete and hand in this completed worksheet (including its outputs and any supporting code outside of the worksheet) with your assignment submission. For more details see the [assignments page](http://vision.stanford.edu/teaching/cs231n/assignments.html) on the course website.*\n",
    "\n",
    "This exercise is analogous to the SVM exercise. You will:\n",
    "\n",
    "- implement a fully-vectorized **loss function** for the Softmax classifier\n",
    "- implement the fully-vectorized expression for its **analytic gradient**\n",
    "- **check your implementation** with numerical gradient\n",
    "- use a validation set to **tune the learning rate and regularization** strength\n",
    "- **optimize** the loss function with **SGD**\n",
    "- **visualize** the final learned weights\n"
   ]
  },
  {
   "cell_type": "code",
   "execution_count": 1,
   "metadata": {},
   "outputs": [],
   "source": [
    "import random\n",
    "import numpy as np\n",
    "from cs231n.data_utils import load_CIFAR10\n",
    "import matplotlib.pyplot as plt\n",
    "%matplotlib inline\n",
    "plt.rcParams['figure.figsize'] = (10.0, 8.0) # set default size of plots\n",
    "plt.rcParams['image.interpolation'] = 'nearest'\n",
    "plt.rcParams['image.cmap'] = 'gray'\n",
    "\n",
    "# for auto-reloading extenrnal modules\n",
    "# see http://stackoverflow.com/questions/1907993/autoreload-of-modules-in-ipython\n",
    "%load_ext autoreload\n",
    "%autoreload 2"
   ]
  },
  {
   "cell_type": "code",
   "execution_count": 2,
   "metadata": {},
   "outputs": [
    {
     "name": "stdout",
     "output_type": "stream",
     "text": [
      "Train data shape:  (49000, 3073)\n",
      "Train labels shape:  (49000,)\n",
      "Validation data shape:  (1000, 3073)\n",
      "Validation labels shape:  (1000,)\n",
      "Test data shape:  (1000, 3073)\n",
      "Test labels shape:  (1000,)\n",
      "dev data shape:  (500, 3073)\n",
      "dev labels shape:  (500,)\n"
     ]
    }
   ],
   "source": [
    "def get_CIFAR10_data(num_training=49000, num_validation=1000, num_test=1000, num_dev=500):\n",
    "  \"\"\"\n",
    "  Load the CIFAR-10 dataset from disk and perform preprocessing to prepare\n",
    "  it for the linear classifier. These are the same steps as we used for the\n",
    "  SVM, but condensed to a single function.  \n",
    "  \"\"\"\n",
    "  # Load the raw CIFAR-10 data\n",
    "  cifar10_dir = 'cs231n/datasets/cifar-10-batches-py'\n",
    "  X_train, y_train, X_test, y_test = load_CIFAR10(cifar10_dir)\n",
    "  \n",
    "  # subsample the data\n",
    "  mask = range(num_training, num_training + num_validation)\n",
    "  X_val = X_train[mask]\n",
    "  y_val = y_train[mask]\n",
    "  mask = range(num_training)\n",
    "  X_train = X_train[mask]\n",
    "  y_train = y_train[mask]\n",
    "  mask = range(num_test)\n",
    "  X_test = X_test[mask]\n",
    "  y_test = y_test[mask]\n",
    "  mask = np.random.choice(num_training, num_dev, replace=False)\n",
    "  X_dev = X_train[mask]\n",
    "  y_dev = y_train[mask]\n",
    "  \n",
    "  # Preprocessing: reshape the image data into rows\n",
    "  X_train = np.reshape(X_train, (X_train.shape[0], -1))\n",
    "  X_val = np.reshape(X_val, (X_val.shape[0], -1))\n",
    "  X_test = np.reshape(X_test, (X_test.shape[0], -1))\n",
    "  X_dev = np.reshape(X_dev, (X_dev.shape[0], -1))\n",
    "  \n",
    "  # Normalize the data: subtract the mean image\n",
    "  mean_image = np.mean(X_train, axis = 0)\n",
    "  X_train -= mean_image\n",
    "  X_val -= mean_image\n",
    "  X_test -= mean_image\n",
    "  X_dev -= mean_image\n",
    "  \n",
    "  # add bias dimension and transform into columns\n",
    "  X_train = np.hstack([X_train, np.ones((X_train.shape[0], 1))])\n",
    "  X_val = np.hstack([X_val, np.ones((X_val.shape[0], 1))])\n",
    "  X_test = np.hstack([X_test, np.ones((X_test.shape[0], 1))])\n",
    "  X_dev = np.hstack([X_dev, np.ones((X_dev.shape[0], 1))])\n",
    "  \n",
    "  return X_train, y_train, X_val, y_val, X_test, y_test, X_dev, y_dev\n",
    "\n",
    "\n",
    "# Invoke the above function to get our data.\n",
    "X_train, y_train, X_val, y_val, X_test, y_test, X_dev, y_dev = get_CIFAR10_data()\n",
    "print 'Train data shape: ', X_train.shape\n",
    "print 'Train labels shape: ', y_train.shape\n",
    "print 'Validation data shape: ', X_val.shape\n",
    "print 'Validation labels shape: ', y_val.shape\n",
    "print 'Test data shape: ', X_test.shape\n",
    "print 'Test labels shape: ', y_test.shape\n",
    "print 'dev data shape: ', X_dev.shape\n",
    "print 'dev labels shape: ', y_dev.shape"
   ]
  },
  {
   "cell_type": "markdown",
   "metadata": {},
   "source": [
    "## Softmax Classifier\n",
    "\n",
    "Your code for this section will all be written inside **cs231n/classifiers/softmax.py**. \n"
   ]
  },
  {
   "cell_type": "code",
   "execution_count": 8,
   "metadata": {},
   "outputs": [
    {
     "name": "stdout",
     "output_type": "stream",
     "text": [
      "loss: 2.346454\n",
      "sanity check: 2.302585\n"
     ]
    }
   ],
   "source": [
    "# First implement the naive softmax loss function with nested loops.\n",
    "# Open the file cs231n/classifiers/softmax.py and implement the\n",
    "# softmax_loss_naive function.\n",
    "\n",
    "from cs231n.classifiers.softmax import softmax_loss_naive\n",
    "import time\n",
    "\n",
    "# Generate a random softmax weight matrix and use it to compute the loss.\n",
    "W = np.random.randn(3073, 10) * 0.0001\n",
    "loss, grad = softmax_loss_naive(W, X_dev, y_dev, 0.0)\n",
    "\n",
    "# As a rough sanity check, our loss should be something close to -log(0.1).\n",
    "print 'loss: %f' % loss\n",
    "print 'sanity check: %f' % (-np.log(0.1))"
   ]
  },
  {
   "cell_type": "markdown",
   "metadata": {},
   "source": [
    "## Inline Question 1:\n",
    "Why do we expect our loss to be close to -log(0.1)? Explain briefly.**\n",
    "\n",
    "**Your answer:** *Fill this in*\n"
   ]
  },
  {
   "cell_type": "code",
   "execution_count": 9,
   "metadata": {},
   "outputs": [
    {
     "name": "stdout",
     "output_type": "stream",
     "text": [
      "numerical: -0.026798 analytic: -0.026798, relative error: 3.435267e-07\n",
      "numerical: -1.388140 analytic: -1.388140, relative error: 4.333815e-08\n",
      "numerical: -2.759100 analytic: -2.759100, relative error: 3.084883e-10\n",
      "numerical: 1.720824 analytic: 1.720824, relative error: 1.967970e-08\n",
      "numerical: 4.668059 analytic: 4.668059, relative error: 1.144499e-08\n",
      "numerical: 2.517195 analytic: 2.517195, relative error: 4.149100e-08\n",
      "numerical: -0.542589 analytic: -0.542589, relative error: 4.168272e-08\n",
      "numerical: 1.296805 analytic: 1.296805, relative error: 1.287403e-08\n",
      "numerical: 0.444109 analytic: 0.444109, relative error: 5.517482e-09\n",
      "numerical: 1.045657 analytic: 1.045657, relative error: 1.583157e-09\n",
      "numerical: -0.508635 analytic: -0.508635, relative error: 4.751151e-08\n",
      "numerical: 0.217547 analytic: 0.217547, relative error: 1.796632e-07\n",
      "numerical: -2.059509 analytic: -2.059509, relative error: 2.560110e-09\n",
      "numerical: 3.147577 analytic: 3.147577, relative error: 2.435010e-08\n",
      "numerical: -0.379128 analytic: -0.379128, relative error: 4.561078e-08\n",
      "numerical: 2.834711 analytic: 2.834711, relative error: 8.244135e-09\n",
      "numerical: -0.324587 analytic: -0.324587, relative error: 6.230828e-08\n",
      "numerical: -3.824358 analytic: -3.824358, relative error: 1.181869e-08\n",
      "numerical: -2.753789 analytic: -2.753790, relative error: 9.823343e-09\n",
      "numerical: -4.659573 analytic: -4.659573, relative error: 1.096968e-08\n"
     ]
    }
   ],
   "source": [
    "# Complete the implementation of softmax_loss_naive and implement a (naive)\n",
    "# version of the gradient that uses nested loops.\n",
    "loss, grad = softmax_loss_naive(W, X_dev, y_dev, 0.0)\n",
    "\n",
    "# As we did for the SVM, use numeric gradient checking as a debugging tool.\n",
    "# The numeric gradient should be close to the analytic gradient.\n",
    "from cs231n.gradient_check import grad_check_sparse\n",
    "f = lambda w: softmax_loss_naive(w, X_dev, y_dev, 0.0)[0]\n",
    "grad_numerical = grad_check_sparse(f, W, grad, 10)\n",
    "\n",
    "# similar to SVM case, do another gradient check with regularization\n",
    "loss, grad = softmax_loss_naive(W, X_dev, y_dev, 1e2)\n",
    "f = lambda w: softmax_loss_naive(w, X_dev, y_dev, 1e2)[0]\n",
    "grad_numerical = grad_check_sparse(f, W, grad, 10)"
   ]
  },
  {
   "cell_type": "code",
   "execution_count": 13,
   "metadata": {},
   "outputs": [
    {
     "name": "stdout",
     "output_type": "stream",
     "text": [
      "naive loss: 2.346454e+00 computed in 0.084396s\n",
      "vectorized loss: 2.346454e+00 computed in 0.003471s\n",
      "Loss difference: 0.000000\n",
      "Gradient difference: 0.000000\n"
     ]
    }
   ],
   "source": [
    "# Now that we have a naive implementation of the softmax loss function and its gradient,\n",
    "# implement a vectorized version in softmax_loss_vectorized.\n",
    "# The two versions should compute the same results, but the vectorized version should be\n",
    "# much faster.\n",
    "tic = time.time()\n",
    "loss_naive, grad_naive = softmax_loss_naive(W, X_dev, y_dev, 0.00001)\n",
    "toc = time.time()\n",
    "print 'naive loss: %e computed in %fs' % (loss_naive, toc - tic)\n",
    "\n",
    "from cs231n.classifiers.softmax import softmax_loss_vectorized\n",
    "tic = time.time()\n",
    "loss_vectorized, grad_vectorized = softmax_loss_vectorized(W, X_dev, y_dev, 0.00001)\n",
    "toc = time.time()\n",
    "print 'vectorized loss: %e computed in %fs' % (loss_vectorized, toc - tic)\n",
    "\n",
    "# As we did for the SVM, we use the Frobenius norm to compare the two versions\n",
    "# of the gradient.\n",
    "grad_difference = np.linalg.norm(grad_naive - grad_vectorized, ord='fro')\n",
    "print 'Loss difference: %f' % np.abs(loss_naive - loss_vectorized)\n",
    "print 'Gradient difference: %f' % grad_difference"
   ]
  },
  {
   "cell_type": "code",
   "execution_count": 19,
   "metadata": {},
   "outputs": [
    {
     "name": "stdout",
     "output_type": "stream",
     "text": [
      "lr 1.000000e-07 reg 5.000000e+04 train accuracy: 0.182735 val accuracy: 0.181000\n",
      "lr 1.000000e-07 reg 1.000000e+05 train accuracy: 0.218224 val accuracy: 0.214000\n",
      "lr 1.000000e-07 reg 5.000000e+05 train accuracy: 0.265898 val accuracy: 0.277000\n",
      "lr 1.000000e-07 reg 1.000000e+06 train accuracy: 0.249143 val accuracy: 0.269000\n",
      "lr 1.000000e-07 reg 5.000000e+06 train accuracy: 0.230939 val accuracy: 0.242000\n",
      "lr 1.000000e-07 reg 1.000000e+07 train accuracy: 0.209898 val accuracy: 0.239000\n",
      "lr 1.000000e-07 reg 5.000000e+07 train accuracy: 0.090735 val accuracy: 0.091000\n",
      "lr 1.000000e-07 reg 1.000000e+08 train accuracy: 0.089898 val accuracy: 0.081000\n",
      "lr 2.000000e-07 reg 5.000000e+04 train accuracy: 0.243408 val accuracy: 0.269000\n",
      "lr 2.000000e-07 reg 1.000000e+05 train accuracy: 0.291694 val accuracy: 0.306000\n",
      "lr 2.000000e-07 reg 5.000000e+05 train accuracy: 0.273204 val accuracy: 0.281000\n",
      "lr 2.000000e-07 reg 1.000000e+06 train accuracy: 0.284918 val accuracy: 0.284000\n",
      "lr 2.000000e-07 reg 5.000000e+06 train accuracy: 0.233408 val accuracy: 0.249000\n",
      "lr 2.000000e-07 reg 1.000000e+07 train accuracy: 0.054531 val accuracy: 0.041000\n",
      "lr 2.000000e-07 reg 5.000000e+07 train accuracy: 0.093286 val accuracy: 0.096000\n",
      "lr 2.000000e-07 reg 1.000000e+08 train accuracy: 0.102122 val accuracy: 0.114000\n",
      "lr 3.000000e-07 reg 5.000000e+04 train accuracy: 0.295878 val accuracy: 0.303000\n",
      "lr 3.000000e-07 reg 1.000000e+05 train accuracy: 0.304571 val accuracy: 0.322000\n",
      "lr 3.000000e-07 reg 5.000000e+05 train accuracy: 0.258939 val accuracy: 0.266000\n",
      "lr 3.000000e-07 reg 1.000000e+06 train accuracy: 0.239959 val accuracy: 0.257000\n",
      "lr 3.000000e-07 reg 5.000000e+06 train accuracy: 0.183163 val accuracy: 0.188000\n",
      "lr 3.000000e-07 reg 1.000000e+07 train accuracy: 0.096959 val accuracy: 0.098000\n",
      "lr 3.000000e-07 reg 5.000000e+07 train accuracy: 0.090612 val accuracy: 0.086000\n",
      "lr 3.000000e-07 reg 1.000000e+08 train accuracy: 0.083163 val accuracy: 0.085000\n",
      "lr 4.000000e-07 reg 5.000000e+04 train accuracy: 0.314245 val accuracy: 0.343000\n",
      "lr 4.000000e-07 reg 1.000000e+05 train accuracy: 0.299776 val accuracy: 0.306000\n",
      "lr 4.000000e-07 reg 5.000000e+05 train accuracy: 0.280837 val accuracy: 0.285000\n",
      "lr 4.000000e-07 reg 1.000000e+06 train accuracy: 0.258429 val accuracy: 0.271000\n",
      "lr 4.000000e-07 reg 5.000000e+06 train accuracy: 0.088286 val accuracy: 0.105000\n",
      "lr 4.000000e-07 reg 1.000000e+07 train accuracy: 0.109082 val accuracy: 0.108000\n",
      "lr 4.000000e-07 reg 5.000000e+07 train accuracy: 0.107592 val accuracy: 0.094000\n",
      "lr 4.000000e-07 reg 1.000000e+08 train accuracy: 0.124469 val accuracy: 0.138000\n",
      "lr 5.000000e-07 reg 5.000000e+04 train accuracy: 0.333143 val accuracy: 0.350000\n",
      "lr 5.000000e-07 reg 1.000000e+05 train accuracy: 0.307000 val accuracy: 0.312000\n",
      "lr 5.000000e-07 reg 5.000000e+05 train accuracy: 0.278551 val accuracy: 0.289000\n",
      "lr 5.000000e-07 reg 1.000000e+06 train accuracy: 0.252816 val accuracy: 0.264000\n",
      "lr 5.000000e-07 reg 5.000000e+06 train accuracy: 0.104327 val accuracy: 0.100000\n",
      "lr 5.000000e-07 reg 1.000000e+07 train accuracy: 0.108469 val accuracy: 0.127000\n",
      "lr 5.000000e-07 reg 5.000000e+07 train accuracy: 0.078388 val accuracy: 0.091000\n",
      "lr 5.000000e-07 reg 1.000000e+08 train accuracy: 0.117510 val accuracy: 0.130000\n",
      "best validation accuracy achieved during cross-validation: 0.350000\n"
     ]
    }
   ],
   "source": [
    "# Use the validation set to tune hyperparameters (regularization strength and\n",
    "# learning rate). You should experiment with different ranges for the learning\n",
    "# rates and regularization strengths; if you are careful you should be able to\n",
    "# get a classification accuracy of over 0.35 on the validation set.\n",
    "from cs231n.classifiers import Softmax\n",
    "results = {}\n",
    "best_val = -1\n",
    "best_softmax = None\n",
    "learning_rates = [1e-7, 2e-7, 3e-7, 4e-7, 5e-7]\n",
    "regularization_strengths = [5e4, 1e5, 5e5, 1e6, 5e6, 1e7, 5e7, 1e8]\n",
    "\n",
    "################################################################################\n",
    "# TODO:                                                                        #\n",
    "# Use the validation set to set the learning rate and regularization strength. #\n",
    "# This should be identical to the validation that you did for the SVM; save    #\n",
    "# the best trained softmax classifer in best_softmax.                          #\n",
    "################################################################################\n",
    "pass\n",
    "for lr in learning_rates:\n",
    "    for rs in regularization_strengths:\n",
    "        softmax = Softmax()\n",
    "        softmax.train(X_train, y_train, learning_rate=lr, reg=rs, num_iters=150)\n",
    "        y_pred = softmax.predict(X_train)\n",
    "        train_accuracy = np.mean(y_pred == y_train)\n",
    "        y_pred = softmax.predict(X_val)\n",
    "        val_accuracy = np.mean(y_pred == y_val)\n",
    "        results[lr, rs] = (train_accuracy, val_accuracy)\n",
    "        if best_val < val_accuracy:\n",
    "            best_val = val_accuracy\n",
    "            best_softmax = softmax\n",
    "    \n",
    "\n",
    "################################################################################\n",
    "#                              END OF YOUR CODE                                #\n",
    "################################################################################\n",
    "    \n",
    "# Print out results.\n",
    "for lr, reg in sorted(results):\n",
    "    train_accuracy, val_accuracy = results[(lr, reg)]\n",
    "    print 'lr %e reg %e train accuracy: %f val accuracy: %f' % (\n",
    "                lr, reg, train_accuracy, val_accuracy)\n",
    "    \n",
    "print 'best validation accuracy achieved during cross-validation: %f' % best_val"
   ]
  },
  {
   "cell_type": "code",
   "execution_count": 20,
   "metadata": {},
   "outputs": [
    {
     "name": "stdout",
     "output_type": "stream",
     "text": [
      "softmax on raw pixels final test set accuracy: 0.354000\n"
     ]
    }
   ],
   "source": [
    "# evaluate on test set\n",
    "# Evaluate the best softmax on test set\n",
    "y_test_pred = best_softmax.predict(X_test)\n",
    "test_accuracy = np.mean(y_test == y_test_pred)\n",
    "print 'softmax on raw pixels final test set accuracy: %f' % (test_accuracy, )"
   ]
  },
  {
   "cell_type": "code",
   "execution_count": 21,
   "metadata": {},
   "outputs": [
    {
     "data": {
      "image/png": "[encoded data removed]",
      "text/plain": [
       "<Figure size 432x288 with 10 Axes>"
      ]
     },
     "metadata": {
      "needs_background": "light"
     },
     "output_type": "display_data"
    }
   ],
   "source": [
    "# Visualize the learned weights for each class\n",
    "w = best_softmax.W[:-1,:] # strip out the bias\n",
    "w = w.reshape(32, 32, 3, 10)\n",
    "\n",
    "w_min, w_max = np.min(w), np.max(w)\n",
    "\n",
    "classes = ['plane', 'car', 'bird', 'cat', 'deer', 'dog', 'frog', 'horse', 'ship', 'truck']\n",
    "for i in xrange(10):\n",
    "  plt.subplot(2, 5, i + 1)\n",
    "  \n",
    "  # Rescale the weights to be between 0 and 255\n",
    "  wimg = 255.0 * (w[:, :, :, i].squeeze() - w_min) / (w_max - w_min)\n",
    "  plt.imshow(wimg.astype('uint8'))\n",
    "  plt.axis('off')\n",
    "  plt.title(classes[i])"
   ]
  }
 ],
 "metadata": {
  "kernelspec": {
   "display_name": "Python 2",
   "language": "python",
   "name": "python2"
  },
  "language_info": {
   "codemirror_mode": {
    "name": "ipython",
    "version": 2
   },
   "file_extension": ".py",
   "mimetype": "text/x-python",
   "name": "python",
   "nbconvert_exporter": "python",
   "pygments_lexer": "ipython2",
   "version": "2.7.18"
  }
 },
 "nbformat": 4,
 "nbformat_minor": 1
}
